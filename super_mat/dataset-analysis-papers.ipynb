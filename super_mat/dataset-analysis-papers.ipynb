{
 "cells": [
  {
   "cell_type": "markdown",
   "metadata": {},
   "source": [
    "## Papers analisys\n",
    "\n",
    "This notebook is an attempt to compute dynamic statistics of the Superconductor datasets papers and extract the distribution of the following information: \n",
    " - Year\n",
    " - Source\n",
    " - keywords\n",
    " - number of pages\n",
    "\n",
    " "
   ]
  },
  {
   "cell_type": "code",
   "execution_count": 39,
   "metadata": {
    "collapsed": false,
    "jupyter": {
     "outputs_hidden": false
    },
    "pycharm": {
     "name": "#%%\n"
    }
   },
   "outputs": [],
   "source": [
    "import json\n",
    "import os\n",
    "from pathlib import Path\n",
    "\n",
    "from bs4 import BeautifulSoup, Tag"
   ]
  },
  {
   "cell_type": "code",
   "execution_count": 40,
   "metadata": {
    "collapsed": false,
    "jupyter": {
     "outputs_hidden": false
    },
    "pycharm": {
     "name": "#%%'\n"
    }
   },
   "outputs": [],
   "source": [
    "def process_dir(input):\n",
    "    accumulator = []\n",
    "    abs_start = os.path.abspath(input)\n",
    "    for root, dirs, files in os.walk(input):\n",
    "        for file_ in files:\n",
    "            if file_.lower().endswith(\".keyterm.json\") or not file_.lower().endswith(\".json\"):\n",
    "                continue\n",
    "            abs_path = os.path.join(root, file_)\n",
    "#             print(\"Processing: \" + str(abs_path))\n",
    "            output_data = process_file(abs_path)\n",
    "            output_data['path'] = os.path.relpath(abs_path, abs_start)\n",
    "            accumulator.append(output_data)\n",
    "\n",
    "    return accumulator\n",
    "\n",
    "\n",
    "def process_file(input):\n",
    "    with open(input, encoding='utf-8') as fp:\n",
    "        source_file = json.load(fp)\n",
    "\n",
    "    year = source_file['date'].split(\"-\")[0] if 'date' in source_file else ''    \n",
    "    publisher = source_file['publisher'] if 'publisher' in source_file else \"N/A\"\n",
    "    source = 'arXiv' if 'arXiv' in source_file else 'N/A'            \n",
    "    keywords = source_file['keywords'] if 'keywords' in source_file else []\n",
    "    \n",
    "    output = {\n",
    "        \"publisher\": publisher, \n",
    "        \"source\": source, \n",
    "        \"year\": year,\n",
    "        \"input\": input, \n",
    "        \"keywords\": keywords\n",
    "    }\n",
    "        \n",
    "    return output"
   ]
  },
  {
   "cell_type": "code",
   "execution_count": 41,
   "metadata": {},
   "outputs": [],
   "source": [
    "accumulator = process_dir(\"/Users/lfoppiano/development/projects/grobid/grobid-superconductors/resources/dataset/superconductors/corpus/biblio\")\n"
   ]
  },
  {
   "cell_type": "markdown",
   "metadata": {},
   "source": [
    "## Distribution of paper by year"
   ]
  },
  {
   "cell_type": "code",
   "execution_count": 42,
   "metadata": {},
   "outputs": [
    {
     "data": {
      "text/plain": [
       "Text(0.5, 1.0, 'Papers by year')"
      ]
     },
     "execution_count": 42,
     "metadata": {},
     "output_type": "execute_result"
    },
    {
     "data": {
      "image/png": "[encoded data removed]",
      "text/plain": [
       "<Figure size 1440x360 with 1 Axes>"
      ]
     },
     "metadata": {
      "needs_background": "light"
     },
     "output_type": "display_data"
    }
   ],
   "source": [
    "frequency = {}\n",
    "for paper in accumulator: \n",
    "    year = paper['year']\n",
    "    if year == \"\": \n",
    "        year = \"N/A\"\n",
    "#         print(paper)\n",
    "    if year in frequency: \n",
    "        frequency[year] += 1\n",
    "    else: \n",
    "        frequency[year] = 1\n",
    "\n",
    "for year in range(1990, 2021): \n",
    "    if str(year) not in frequency: \n",
    "        frequency[str(year)] = 0\n",
    "\n",
    "    \n",
    "import collections\n",
    "frequency_ordered = collections.OrderedDict(sorted(frequency.items()))\n",
    "\n",
    "        \n",
    "import matplotlib.pyplot as plt\n",
    "import numpy as np\n",
    "\n",
    "x = frequency_ordered.keys()\n",
    "y = [frequency_ordered[key] for key in frequency_ordered.keys()]\n",
    "\n",
    "# from matplotlib.pyplot import figure\n",
    "# figure(num=None, figsize=(8, 6), dpi=80, facecolor='w', edgecolor='k')\n",
    "\n",
    "fig, ax = plt.subplots(figsize=(20, 5)) \n",
    "\n",
    "ax.bar(x, y, width=0.3)\n",
    "\n",
    "ax.set_ylabel('Frequency')\n",
    "ax.set_ylabel('Year')\n",
    "ax.set_title('Papers by year')\n",
    "# ax.legend()\n"
   ]
  },
  {
   "cell_type": "code",
   "execution_count": 43,
   "metadata": {},
   "outputs": [
    {
     "name": "stdout",
     "output_type": "stream",
     "text": [
      "odict_keys(['1976', '1987', '1989', '1990', '1991', '1992', '1993', '1994', '1995', '1996', '1997', '1998', '1999', '2000', '2001', '2002', '2003', '2004', '2005', '2006', '2007', '2008', '2009', '2010', '2011', '2012', '2013', '2014', '2015', '2016', '2017', '2018', '2019', '2020'])\n",
      "[1, 2, 1, 0, 1, 2, 0, 1, 1, 0, 0, 0, 5, 4, 6, 10, 13, 15, 7, 1, 1, 4, 2, 1, 3, 3, 2, 2, 3, 2, 1, 46, 2, 0]\n"
     ]
    }
   ],
   "source": [
    "print(x)\n",
    "print(y)"
   ]
  },
  {
   "cell_type": "markdown",
   "metadata": {},
   "source": [
    "## Distribution of papers by source / publisher"
   ]
  },
  {
   "cell_type": "code",
   "execution_count": 29,
   "metadata": {},
   "outputs": [
    {
     "data": {
      "text/plain": [
       "Text(0, 0.5, 'Publisher')"
      ]
     },
     "execution_count": 29,
     "metadata": {},
     "output_type": "execute_result"
    },
    {
     "data": {
      "image/png": "[encoded data removed]",
      "text/plain": [
       "<Figure size 432x288 with 1 Axes>"
      ]
     },
     "metadata": {
      "needs_background": "light"
     },
     "output_type": "display_data"
    }
   ],
   "source": [
    "frequency = {}\n",
    "for paper in accumulator: \n",
    "    year = paper['publisher']\n",
    "    if year == \"\": \n",
    "        year = \"N/A\"\n",
    "#         print(paper)\n",
    "    if year in frequency: \n",
    "        frequency[year] += 1\n",
    "    else: \n",
    "        frequency[year] = 1\n",
    "        \n",
    "\n",
    "import matplotlib.pyplot as plt\n",
    "import numpy as np\n",
    "\n",
    "sorted_by_value = {k: v for k, v in sorted(frequency.items(), key=lambda item: item[1], reverse=True)}\n",
    "\n",
    "y = list(sorted_by_value.keys())\n",
    "x = [sorted_by_value[key] for key in sorted_by_value.keys()]\n",
    "\n",
    "# from matplotlib.pyplot import figure\n",
    "# figure(num=None, figsize=(8, 6), dpi=80, facecolor='w', edgecolor='k')\n",
    "\n",
    "fig, ax = plt.subplots() \n",
    "\n",
    "ax.barh(y,x, align=\"center\")\n",
    "\n",
    "ax.set_ylabel('Frequency')\n",
    "ax.set_ylabel('Publisher')\n",
    "# ax.set_title('Papers by publisher')\n",
    "# ax.legend()\n"
   ]
  },
  {
   "cell_type": "markdown",
   "metadata": {},
   "source": [
    "## Distribution of papers by keywords"
   ]
  },
  {
   "cell_type": "code",
   "execution_count": 30,
   "metadata": {},
   "outputs": [
    {
     "data": {
      "text/plain": [
       "Text(0.5, 1.0, 'Papers by Keywords (from the paper header)')"
      ]
     },
     "execution_count": 30,
     "metadata": {},
     "output_type": "execute_result"
    },
    {
     "data": {
      "image/png": "[encoded data removed]",
      "text/plain": [
       "<Figure size 432x288 with 1 Axes>"
      ]
     },
     "metadata": {
      "needs_background": "light"
     },
     "output_type": "display_data"
    }
   ],
   "source": [
    "from difflib import SequenceMatcher\n",
    "\n",
    "def group_by_with_soft_matching(input_list, threshold):\n",
    "    matching = {}\n",
    "    last_matching = -1\n",
    "\n",
    "    for index_x, x in enumerate(input_list):\n",
    "        unpacked = [y for x in matching for y in matching[x]]\n",
    "        if x not in matching and x not in unpacked:\n",
    "            matching[x] = []\n",
    "\n",
    "            for index_y, y in enumerate(input_list[index_x + 1:]):\n",
    "                if x == y:\n",
    "                    continue\n",
    "\n",
    "                if SequenceMatcher(None, x.lower(), y.lower()).ratio() > threshold:\n",
    "                    matching[x].append(y)\n",
    "\n",
    "        else:\n",
    "            continue\n",
    "\n",
    "    return matching\n",
    "\n",
    "\n",
    "import re\n",
    "\n",
    "frequency = {}\n",
    "for paper in accumulator: \n",
    "    year = paper['keywords']\n",
    "    if year == []: \n",
    "        year = [\"N/A\"]\n",
    "#         print(paper)\n",
    "    for keyword in year:\n",
    "#         print(keyword)\n",
    "        keyword = re.sub(\"^\\.\", \"\", keyword)\n",
    "        keyword = re.sub(\"^(numbers: )?[0-9]+\\.?[0-9]*[A-Za-z.+-]{0,3}\", \"\", keyword)\n",
    "        keyword = keyword.strip()\n",
    "        multi_key = keyword.split(\",\")\n",
    "        if len(multi_key) > 0: \n",
    "            for sub_key in multi_key: \n",
    "                if sub_key == \"\": \n",
    "                    sub_key = \"N/A\"\n",
    "            \n",
    "                if sub_key in frequency: \n",
    "                    frequency[sub_key] += 1\n",
    "                else: \n",
    "                    frequency[sub_key] = 1\n",
    "        else: \n",
    "            if keyword == \"\": \n",
    "                keyword = \"N/A\"\n",
    "            \n",
    "            if keyword in frequency: \n",
    "                frequency[keyword] += 1\n",
    "            else: \n",
    "                frequency[keyword] = 1\n",
    "\n",
    "group_by = group_by_with_soft_matching(list(frequency.keys()), 0.95)\n",
    "only_dup = {group_: group_by[group_] for group_ in group_by if len(group_by[group_]) > 0}\n",
    "            \n",
    "# print(only_dup)\n",
    "\n",
    "for key, values in only_dup.items():\n",
    "#     print(frequency_ordered[key])\n",
    "    cumulated = frequency[key] \n",
    "    for val in values: \n",
    "        cumulated += frequency[val]\n",
    "        del frequency[val]\n",
    "\n",
    "    frequency[key] = cumulated\n",
    "#     print(frequency_ordered[key])\n",
    "\n",
    "\n",
    "sorted_by_value = {k: v for k, v in sorted(frequency.items(), key=lambda item: item[1], reverse=True)}\n",
    "top_10 = {k:sorted_by_value[k] for k in list(sorted_by_value.keys())[0:10]}\n",
    "\n",
    "\n",
    "\n",
    "\n",
    "import matplotlib.pyplot as plt\n",
    "import numpy as np\n",
    "\n",
    "y = list(top_10.keys())\n",
    "# y_string = \"\\n\".join(y)\n",
    "# with open(\"bao\", 'w') as fs: \n",
    "#     fs.write(y_string)\n",
    "    \n",
    "x = [top_10[key] for key in top_10.keys()]\n",
    "\n",
    "# from matplotlib.pyplot import figure\n",
    "# figure(num=None, figsize=(8, 6), dpi=80, facecolor='w', edgecolor='k')\n",
    "\n",
    "fig, ax = plt.subplots() \n",
    "\n",
    "ax.barh(y,x, align=\"center\")\n",
    "\n",
    "ax.set_ylabel('Frequency')\n",
    "ax.set_ylabel('Keyword')\n",
    "ax.set_title('Papers by Keywords (from the paper header)')\n",
    "# ax.legend()"
   ]
  },
  {
   "cell_type": "markdown",
   "metadata": {},
   "source": [
    "## Distribution by source"
   ]
  },
  {
   "cell_type": "code",
   "execution_count": 31,
   "metadata": {},
   "outputs": [
    {
     "data": {
      "image/png": "[encoded data removed]",
      "text/plain": [
       "<Figure size 432x288 with 1 Axes>"
      ]
     },
     "metadata": {},
     "output_type": "display_data"
    }
   ],
   "source": [
    "frequency = {}\n",
    "for paper in accumulator: \n",
    "    source = paper['source']\n",
    "    if source == \"\" or source == 'N/A': \n",
    "        source = \"other\"\n",
    "    if source in frequency: \n",
    "        frequency[source] += 1\n",
    "    else: \n",
    "        frequency[source] = 1\n",
    "        \n",
    "import collections\n",
    "frequency_ordered = collections.OrderedDict(sorted(frequency.items()))\n",
    "\n",
    "\n",
    "import matplotlib.pyplot as plt\n",
    "import numpy as np\n",
    "\n",
    "x = list(frequency_ordered.keys())\n",
    "y = [frequency_ordered[key] for key in frequency_ordered.keys()]\n",
    "\n",
    "def func(pct, allvals):\n",
    "    absolute = int(pct/100.*np.sum(allvals))\n",
    "    return \"{:.1f}%\\n({:d})\".format(pct, absolute)\n",
    "    \n",
    "\n",
    "fig, ax = plt.subplots()\n",
    "\n",
    "wedges, texts, autotexts = ax.pie(y, autopct=lambda pct: func(pct, y),\n",
    "                                  textprops=dict(color=\"w\"))\n",
    "\n",
    "\n",
    "ax.legend(wedges, x,\n",
    "          title=\"Labels\",\n",
    "          loc=\"center left\",\n",
    "          bbox_to_anchor=(1, 0, 0.5, 1))\n",
    "\n",
    "plt.setp(autotexts, size=8, weight=\"bold\")\n",
    "ax.set_title(\"arXiv papers\")\n",
    "plt.show()"
   ]
  },
  {
   "cell_type": "code",
   "execution_count": 32,
   "metadata": {},
   "outputs": [
    {
     "data": {
      "text/plain": [
       "{'publisher': 'American Physical Society (APS)',\n",
       " 'source': 'arXiv',\n",
       " 'year': '2003',\n",
       " 'input': '/Users/lfoppiano/development/projects/grobid/grobid-superconductors/resources/dataset/superconductors/corpus/biblio/batch-1/L091087001-CC.json',\n",
       " 'keywords': [],\n",
       " 'path': 'batch-1/L091087001-CC.json'}"
      ]
     },
     "execution_count": 32,
     "metadata": {},
     "output_type": "execute_result"
    }
   ],
   "source": [
    "accumulator[0]"
   ]
  },
  {
   "cell_type": "markdown",
   "metadata": {},
   "source": [
    "# Distribution by keywords (from the body)"
   ]
  },
  {
   "cell_type": "code",
   "execution_count": 33,
   "metadata": {},
   "outputs": [],
   "source": [
    "def process_dir(input):\n",
    "    accumulator = []\n",
    "    abs_start = os.path.abspath(input)\n",
    "    for root, dirs, files in os.walk(input):\n",
    "        for file_ in files:\n",
    "            if file_.lower().endswith(\".keyterm.json\"):\n",
    "                abs_path = os.path.join(root, file_)\n",
    "                keywords = process_file(abs_path)\n",
    "#                 output_data['path'] = os.path.relpath(abs_path, abs_start)\n",
    "#                 accumulator.append(output_data)\n",
    "                accumulator.extend(keywords)\n",
    "\n",
    "    return accumulator\n",
    "\n",
    "\n",
    "def process_file(input):\n",
    "    keywords = []\n",
    "    with open(input, encoding='utf-8') as fp:\n",
    "        source_file = json.load(fp)\n",
    "\n",
    "        keywords = [(keyword['term'], keyword['score']) for keyword in (source_file['categories'] if 'categories' in source_file else [])]\n",
    "\n",
    "    return keywords"
   ]
  },
  {
   "cell_type": "code",
   "execution_count": 34,
   "metadata": {},
   "outputs": [],
   "source": [
    "accumulator = process_dir(\"/Users/lfoppiano/development/projects/grobid/grobid-superconductors/resources/dataset/superconductors/corpus/biblio\")"
   ]
  },
  {
   "cell_type": "code",
   "execution_count": 35,
   "metadata": {},
   "outputs": [
    {
     "data": {
      "text/plain": [
       "Text(0.5, 1.0, 'Top 10 keywords distribution')"
      ]
     },
     "execution_count": 35,
     "metadata": {},
     "output_type": "execute_result"
    },
    {
     "data": {
      "image/png": "[encoded data removed]",
      "text/plain": [
       "<Figure size 432x288 with 1 Axes>"
      ]
     },
     "metadata": {
      "needs_background": "light"
     },
     "output_type": "display_data"
    }
   ],
   "source": [
    "frequency = {}\n",
    "for keyword in accumulator: \n",
    "    if keyword[0] in frequency: \n",
    "        frequency[keyword[0]] += 1\n",
    "    else: \n",
    "        frequency[keyword[0]] = 1\n",
    "\n",
    "sorted_by_value = {k: v for k, v in sorted(frequency.items(), key=lambda item: item[1], reverse=True)}\n",
    "top_10 = {k:sorted_by_value[k] for k in list(sorted_by_value.keys())[0:20]}\n",
    "# import collections\n",
    "# frequency_ordered = collections.OrderedDict(sorted(frequency.items()))\n",
    "\n",
    "import matplotlib.pyplot as plt\n",
    "import numpy as np\n",
    "\n",
    "y = list(top_10.keys())\n",
    "# y_string = \"\\n\".join(y)\n",
    "# with open(\"bao\", 'w') as fs: \n",
    "#     fs.write(y_string)\n",
    "    \n",
    "x = [top_10[key] for key in top_10.keys()]\n",
    "\n",
    "# from matplotlib.pyplot import figure\n",
    "# figure(num=None, figsize=(8, 6), dpi=80, facecolor='w', edgecolor='k')\n",
    "\n",
    "fig, ax = plt.subplots() \n",
    "\n",
    "ax.barh(y,x, align=\"center\")\n",
    "\n",
    "ax.set_ylabel('Frequency')\n",
    "ax.set_ylabel('Keyword')\n",
    "ax.set_title('Top 10 keywords distribution')"
   ]
  },
  {
   "cell_type": "code",
   "execution_count": 36,
   "metadata": {},
   "outputs": [
    {
     "data": {
      "text/plain": [
       "Text(0.5, 1.0, 'Top 10 keywords distribution')"
      ]
     },
     "execution_count": 36,
     "metadata": {},
     "output_type": "execute_result"
    },
    {
     "data": {
      "image/png": "[encoded data removed]",
      "text/plain": [
       "<Figure size 432x288 with 1 Axes>"
      ]
     },
     "metadata": {
      "needs_background": "light"
     },
     "output_type": "display_data"
    }
   ],
   "source": [
    "frequency = {}\n",
    "for keyword in accumulator: \n",
    "    if keyword[0] in frequency: \n",
    "        frequency[keyword[0]] += round(float(keyword[1]), 2)\n",
    "    else: \n",
    "        frequency[keyword[0]] = round(float(keyword[1]), 2)\n",
    "\n",
    "sorted_by_value = {k: v for k, v in sorted(frequency.items(), key=lambda item: item[1], reverse=True)}\n",
    "top_10 = {k:sorted_by_value[k] for k in list(sorted_by_value.keys())[0:10]}\n",
    "# import collections\n",
    "# frequency_ordered = collections.OrderedDict(sorted(frequency.items()))\n",
    "\n",
    "import matplotlib.pyplot as plt\n",
    "import numpy as np\n",
    "\n",
    "y = list(top_10.keys())\n",
    "# y_string = \"\\n\".join(y)\n",
    "# with open(\"bao\", 'w') as fs: \n",
    "#     fs.write(y_string)\n",
    "    \n",
    "x = [top_10[key] for key in top_10.keys()]\n",
    "\n",
    "# from matplotlib.pyplot import figure\n",
    "# figure(num=None, figsize=(8, 6), dpi=80, facecolor='w', edgecolor='k')\n",
    "\n",
    "fig, ax = plt.subplots() \n",
    "\n",
    "ax.barh(y,x, align=\"center\")\n",
    "\n",
    "ax.set_ylabel('Frequency')\n",
    "ax.set_ylabel('Keyword')\n",
    "ax.set_title('Top 10 keywords distribution')"
   ]
  },
  {
   "cell_type": "code",
   "execution_count": null,
   "metadata": {},
   "outputs": [],
   "source": []
  },
  {
   "cell_type": "code",
   "execution_count": null,
   "metadata": {},
   "outputs": [],
   "source": []
  }
 ],
 "metadata": {
  "kernelspec": {
   "display_name": "Python 3",
   "language": "python",
   "name": "python3"
  },
  "language_info": {
   "codemirror_mode": {
    "name": "ipython",
    "version": 3
   },
   "file_extension": ".py",
   "mimetype": "text/x-python",
   "name": "python",
   "nbconvert_exporter": "python",
   "pygments_lexer": "ipython3",
   "version": "3.7.7"
  }
 },
 "nbformat": 4,
 "nbformat_minor": 4
}
